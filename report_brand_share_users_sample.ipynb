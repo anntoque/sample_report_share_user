{
 "cells": [
  {
   "cell_type": "code",
   "execution_count": 1,
   "metadata": {
    "nbpresent": {
     "id": "c3985696-33f7-48e1-bc65-2baf6e88c97b"
    }
   },
   "outputs": [],
   "source": [
    "import matplotlib.pyplot as plt\n",
    "import seaborn as sea\n",
    "import numpy as np\n",
    "import pandas as pd"
   ]
  },
  {
   "cell_type": "code",
   "execution_count": 2,
   "metadata": {
    "nbpresent": {
     "id": "e20ef8b7-c323-4bd5-8444-f44726bde41d"
    }
   },
   "outputs": [
    {
     "data": {
      "text/html": [
       "<div>\n",
       "<style scoped>\n",
       "    .dataframe tbody tr th:only-of-type {\n",
       "        vertical-align: middle;\n",
       "    }\n",
       "\n",
       "    .dataframe tbody tr th {\n",
       "        vertical-align: top;\n",
       "    }\n",
       "\n",
       "    .dataframe thead th {\n",
       "        text-align: right;\n",
       "    }\n",
       "</style>\n",
       "<table border=\"1\" class=\"dataframe\">\n",
       "  <thead>\n",
       "    <tr style=\"text-align: right;\">\n",
       "      <th></th>\n",
       "      <th>brand_id</th>\n",
       "      <th>compare_brand_id</th>\n",
       "      <th>share_user_num</th>\n",
       "    </tr>\n",
       "  </thead>\n",
       "  <tbody>\n",
       "    <tr>\n",
       "      <th>0</th>\n",
       "      <td>A</td>\n",
       "      <td>A</td>\n",
       "      <td>400.0</td>\n",
       "    </tr>\n",
       "    <tr>\n",
       "      <th>1</th>\n",
       "      <td>A</td>\n",
       "      <td>B</td>\n",
       "      <td>100.0</td>\n",
       "    </tr>\n",
       "    <tr>\n",
       "      <th>2</th>\n",
       "      <td>A</td>\n",
       "      <td>C</td>\n",
       "      <td>200.0</td>\n",
       "    </tr>\n",
       "    <tr>\n",
       "      <th>3</th>\n",
       "      <td>B</td>\n",
       "      <td>A</td>\n",
       "      <td>100.0</td>\n",
       "    </tr>\n",
       "    <tr>\n",
       "      <th>4</th>\n",
       "      <td>B</td>\n",
       "      <td>B</td>\n",
       "      <td>300.0</td>\n",
       "    </tr>\n",
       "    <tr>\n",
       "      <th>5</th>\n",
       "      <td>B</td>\n",
       "      <td>C</td>\n",
       "      <td>200.0</td>\n",
       "    </tr>\n",
       "  </tbody>\n",
       "</table>\n",
       "</div>"
      ],
      "text/plain": [
       "  brand_id compare_brand_id  share_user_num\n",
       "0        A                A           400.0\n",
       "1        A                B           100.0\n",
       "2        A                C           200.0\n",
       "3        B                A           100.0\n",
       "4        B                B           300.0\n",
       "5        B                C           200.0"
      ]
     },
     "execution_count": 2,
     "metadata": {},
     "output_type": "execute_result"
    }
   ],
   "source": [
    "df_brand_share = pd.read_csv('brand_shares_sample_top50_20181118.csv')\n",
    "df_brand_share.head(6)"
   ]
  },
  {
   "cell_type": "code",
   "execution_count": 3,
   "metadata": {
    "nbpresent": {
     "id": "acf7de95-d2a0-4bbf-9990-1d7f4b12fbeb"
    }
   },
   "outputs": [],
   "source": [
    "df_brand_share_pivot = pd.pivot_table(data=df_brand_share, values='share_user_num'\n",
    "                                     ,columns='brand_id', index='compare_brand_id', aggfunc=np.max)"
   ]
  },
  {
   "cell_type": "code",
   "execution_count": 4,
   "metadata": {
    "nbpresent": {
     "id": "becbe38e-bb96-4c5f-9f34-0c43ac39a146"
    }
   },
   "outputs": [
    {
     "data": {
      "text/plain": [
       "<matplotlib.axes._subplots.AxesSubplot at 0x114f7d470>"
      ]
     },
     "execution_count": 4,
     "metadata": {},
     "output_type": "execute_result"
    },
    {
     "data": {
      "text/plain": [
       "<matplotlib.figure.Figure at 0x114fe0048>"
      ]
     },
     "metadata": {},
     "output_type": "display_data"
    },
    {
     "data": {
      "image/png": "[encoded data removed]",
      "text/plain": [
       "<matplotlib.figure.Figure at 0x114fe0208>"
      ]
     },
     "metadata": {},
     "output_type": "display_data"
    }
   ],
   "source": [
    "plt.figure(figsize=(100,100),dpi=200)\n",
    "#sea.set(font='IPAexGothic')\n",
    "plt.subplots(figsize=(5,5))\n",
    "sea.heatmap(df_brand_share_pivot,cmap='Greens')"
   ]
  }
 ],
 "metadata": {
  "kernelspec": {
   "display_name": "Python [conda root]",
   "language": "python",
   "name": "conda-root-py"
  },
  "language_info": {
   "codemirror_mode": {
    "name": "ipython",
    "version": 3
   },
   "file_extension": ".py",
   "mimetype": "text/x-python",
   "name": "python",
   "nbconvert_exporter": "python",
   "pygments_lexer": "ipython3",
   "version": "3.6.6"
  },
  "nbpresent": {
   "slides": {
    "096eaf63-a76f-42b1-9a3f-0a68099706a0": {
     "id": "096eaf63-a76f-42b1-9a3f-0a68099706a0",
     "prev": null,
     "regions": {
      "585e132a-36ed-4a8c-825d-156acb02b692": {
       "attrs": {
        "height": 0.8,
        "width": 0.8,
        "x": 0.1,
        "y": 0.1
       },
       "content": {
        "cell": "e20ef8b7-c323-4bd5-8444-f44726bde41d",
        "part": "whole"
       },
       "id": "585e132a-36ed-4a8c-825d-156acb02b692"
      }
     }
    },
    "832968ee-9211-42aa-8ca6-40a3e458785c": {
     "id": "832968ee-9211-42aa-8ca6-40a3e458785c",
     "prev": "096eaf63-a76f-42b1-9a3f-0a68099706a0",
     "regions": {
      "f10290ab-981c-4db0-bd2d-0ef30e02693a": {
       "attrs": {
        "height": 0.8,
        "width": 0.8,
        "x": 0.1,
        "y": 0.1
       },
       "content": {
        "cell": "acf7de95-d2a0-4bbf-9990-1d7f4b12fbeb",
        "part": "whole"
       },
       "id": "f10290ab-981c-4db0-bd2d-0ef30e02693a"
      }
     }
    },
    "b24910b1-169e-40f6-9670-feb79d82c93d": {
     "id": "b24910b1-169e-40f6-9670-feb79d82c93d",
     "prev": "832968ee-9211-42aa-8ca6-40a3e458785c",
     "regions": {
      "c187d1b7-e47c-4afa-90eb-c5788997afdd": {
       "attrs": {
        "height": 0.8,
        "width": 0.8,
        "x": 0.1,
        "y": 0.1
       },
       "content": {
        "cell": "becbe38e-bb96-4c5f-9f34-0c43ac39a146",
        "part": "whole"
       },
       "id": "c187d1b7-e47c-4afa-90eb-c5788997afdd"
      }
     }
    },
    "c2ef852a-e9d0-4f9e-b8b6-5ef74405a13e": {
     "id": "c2ef852a-e9d0-4f9e-b8b6-5ef74405a13e",
     "prev": "b24910b1-169e-40f6-9670-feb79d82c93d",
     "regions": {
      "b0a26e48-3537-4f17-800f-05138710bda0": {
       "attrs": {
        "height": 0.8,
        "width": 0.8,
        "x": 0.1,
        "y": 0.1
       },
       "content": {
        "cell": "02ba25e8-33e6-473d-98d0-d06ac7dc509f",
        "part": "whole"
       },
       "id": "b0a26e48-3537-4f17-800f-05138710bda0"
      }
     }
    }
   },
   "themes": {}
  }
 },
 "nbformat": 4,
 "nbformat_minor": 2
}
